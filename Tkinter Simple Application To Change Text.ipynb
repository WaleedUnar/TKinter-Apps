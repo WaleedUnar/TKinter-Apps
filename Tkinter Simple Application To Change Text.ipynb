{
 "cells": [
  {
   "cell_type": "code",
   "execution_count": 16,
   "id": "0460282b",
   "metadata": {},
   "outputs": [],
   "source": [
    "# we will start building an app that changes text\n",
    "\n",
    "import tkinter as tk\n",
    "import os\n",
    "import random\n",
    "import tkinter.font as font\n",
    "from tkinter import *"
   ]
  },
  {
   "cell_type": "code",
   "execution_count": 22,
   "id": "61c13bf3",
   "metadata": {},
   "outputs": [],
   "source": [
    "class Test():\n",
    "    def __init__(self):\n",
    "        self.root = tk.Tk() #This is for the window\n",
    "\n",
    "        self.buttonB = tk.Button(self.root, text = \"Click to change text\", command = self.change_text)\n",
    "        \n",
    "        self.buttonA = tk.Button(self.root, text = \"Original Text\", command = self.original_text)\n",
    "        \n",
    "        self.buttonA.pack(side = tk.LEFT) #.pack is used to end the buttons\n",
    "        self.buttonB.pack(side = tk.RIGHT)\n",
    "        \n",
    "        self.root.mainloop() #This thing packs or closes the window. Makes it visible and stable\n",
    "        \n",
    "        \n",
    "    def original_text(self): #This function brings the original text\n",
    "        self.buttonB['text'] = \"Click to change text\"\n",
    "        pass\n",
    "    def change_text(self): #This function changes the text randomly from the given list\n",
    "        random_list = [\"changed\", \"Donkey\", \"House\", \"Laptop\", \"Hyderabad\", \"Qasimabad\"]\n",
    "        self.buttonB['text'] = random.choice(random_list)\n",
    "        \n",
    "app = Test()"
   ]
  }
 ],
 "metadata": {
  "kernelspec": {
   "display_name": "Python 3 (ipykernel)",
   "language": "python",
   "name": "python3"
  },
  "language_info": {
   "codemirror_mode": {
    "name": "ipython",
    "version": 3
   },
   "file_extension": ".py",
   "mimetype": "text/x-python",
   "name": "python",
   "nbconvert_exporter": "python",
   "pygments_lexer": "ipython3",
   "version": "3.9.7"
  }
 },
 "nbformat": 4,
 "nbformat_minor": 5
}
